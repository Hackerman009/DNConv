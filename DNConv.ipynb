{
 "cells": [
  {
   "cell_type": "code",
   "execution_count": 3,
   "id": "860a08da",
   "metadata": {},
   "outputs": [],
   "source": [
    "#imports\n",
    "import tensorflow as tf\n",
    "from tensorflow.keras import layers, models\n",
    "from keras.preprocessing.image import ImageDataGenerator\n",
    "from keras import backend as K\n",
    "import matplotlib.pyplot as plt"
   ]
  },
  {
   "cell_type": "markdown",
   "id": "662aeb9b",
   "metadata": {},
   "source": [
    "### Image/Data preprocessing"
   ]
  },
  {
   "cell_type": "code",
   "execution_count": 39,
   "id": "373fe36d",
   "metadata": {},
   "outputs": [],
   "source": [
    "#figuring out whether to use a table to store labels or filename\n",
    "#last 3 or idx[:-3] of filename can be the label\n",
    "#e.g. 8937_day or 8937_1 \n",
    "\n",
    "#1 - assign class by changing name to '<n>_1' or '<n>_0' where n is idx 1 = Day | 0 = Night\n",
    "#2 - randomly shuffle several times across both day and night\n",
    "#3 - divide into train and test x and y (image and label)\n",
    "#4 - create label array using just the last value of the filename\n",
    "\n",
    "#imports\n",
    "import os\n",
    "import os.path\n",
    "from PIL import Image\n",
    "\n",
    "#1\n",
    "#filepaths for day/night\n",
    "#f_day = r'C:/Users/vicch/jupyterlab_workspace/image_process_output/day_all/'\n",
    "#f_night = r'C:/Users/vicch/jupyterlab_workspace/image_process_output/night_all/'\n",
    "\n",
    "#renaming all day/night adding 1 or 0 on the end\n",
    "#for file in os.listdir(f_day):\n",
    "#    f_oldname = f_day+'/'+file\n",
    "#    f_newname = f_oldname[:-4]+'_1.jpg'\n",
    "#    #renaming files\n",
    "#    os.rename(f_oldname, f_newname)\n",
    "\n",
    "#for file in os.listdir(f_night):\n",
    "#    f_oldname = f_night+'/'+file\n",
    "#    f_newname = f_oldname[:-4]+'_0.jpg'\n",
    "#    #renaming files\n",
    "#    os.rename(f_oldname, f_newname)"
   ]
  },
  {
   "cell_type": "code",
   "execution_count": null,
   "id": "1f77a14c",
   "metadata": {},
   "outputs": [],
   "source": [
    "#2\n",
    "#randomly shuffle test with a set seed to check as long as list len is same so is shuffle order\n",
    "import random \n",
    "#x = [1, 2, 3, 4, 5, 6]\n",
    "#y = ['a', 'b', 'c', 'd', 'e', 'f']\n",
    "\n",
    "#seed = 5\n",
    "#random.Random(seed).shuffle(x)\n",
    "#random.Random(seed).shuffle(y)\n",
    "#print(x)\n",
    "#print(y)\n",
    "\n",
    "###Output:\n",
    "###[2, 1, 4, 6, 3, 5]\n",
    "###['b', 'a', 'd', 'f', 'c', 'e']\n",
    "\n",
    "#manually copy the day and night images to same directory: combined_day_night\n",
    "#randomly assign a 5 digit number to start of each file name\n",
    "\n",
    "#filepath for combined\n",
    "f_combined = r'C:/Users/vicch/jupyterlab_workspace/image_process_output/combined_day_night/'\n",
    "\n",
    "#creating list of len(<number of files>)\n",
    "filenumber_list = [i for i in range(len(os.listdir(f_combined)))]\n",
    "#concatenating 0s to the front of str(i) for i in filenumber_list depending on the no.digits or len()\n",
    "#filenumber_list[-10:] #checking list\n",
    "\n",
    "filenumber_list2 = []\n",
    "for i in filenumber_list:\n",
    "    if len(str(i)) < 5:\n",
    "        filenumber_list2.append(str(0)*(5-len(str(i))) + str(i))\n",
    "    else:\n",
    "        filenumber_list2.append(str(i))\n",
    "#filenumber_list2[:100] #checking list\n",
    "\n",
    "#randomly shuffle list with set seed\n",
    "seed = 42 #answer to whats the meaning of life\n",
    "random.Random(seed).shuffle(filenumber_list2)\n",
    "shuffled_number_list = filenumber_list2[:] #creating copy to a new list \n",
    "#shuffled_number_list[:10] #checking list\n",
    "\n",
    "#renaming all day/night adding 1 or 0 on the end\n",
    "for idx, file in enumerate(os.listdir(f_combined)):\n",
    "    f_oldname = f_combined+file\n",
    "    f_newname = f_combined+shuffled_number_list[idx]+'_'+file[5:]\n",
    "    #renaming files\n",
    "    os.rename(f_oldname, f_newname)"
   ]
  },
  {
   "cell_type": "code",
   "execution_count": 45,
   "id": "6940e41c",
   "metadata": {},
   "outputs": [
    {
     "name": "stdout",
     "output_type": "stream",
     "text": [
      "23302 28295\n"
     ]
    }
   ],
   "source": [
    "#3\n",
    "#find out how many so can calculate which indexes to be train validation and test 70:15:15\n",
    "import os\n",
    "dataset_size = len(os.listdir(r'C:/Users/vicch/jupyterlab_workspace/image_process_output/combined_day_night/'))\n",
    "#33288\n",
    "\n",
    "#find the indexes at borders of train-val-test splits to manually move files to \n",
    "train_bound = round(dataset_size*0.7)\n",
    "val_bound = train_bound+round(dataset_size*0.15)\n",
    "print(train_bound, val_bound)"
   ]
  },
  {
   "cell_type": "raw",
   "id": "d347b86b",
   "metadata": {},
   "source": [
    "#4"
   ]
  },
  {
   "cell_type": "markdown",
   "id": "c100ca31",
   "metadata": {},
   "source": [
    "### Model"
   ]
  },
  {
   "cell_type": "code",
   "execution_count": 4,
   "id": "563b3819",
   "metadata": {},
   "outputs": [],
   "source": [
    "#creating convolutional base\n",
    "model = models.Sequential()\n",
    "model.add(layers.Conv2D(40, (3, 3), activation='relu', input_shape=(40, 80, 3)))\n",
    "model.add(layers.MaxPooling2D((2, 2)))\n",
    "model.add(layers.Conv2D(80, (3, 3), activation='relu'))\n",
    "model.add(layers.MaxPooling2D((2, 2)))\n",
    "model.add(layers.Conv2D(80, (3, 3), activation='relu'))\n",
    "#adding dense layers\n",
    "model.add(layers.Flatten())\n",
    "model.add(layers.Dense(32, activation='relu'))\n",
    "model.add(layers.Dense(2, activation='softmax'))\n",
    "\n",
    "model.compile(optimizer='adam',\n",
    "              loss=tf.keras.losses.SparseCategoricalCrossentropy(),#from_logits=True),\n",
    "              metrics=['accuracy'])"
   ]
  },
  {
   "cell_type": "raw",
   "id": "b9d6df39",
   "metadata": {},
   "source": [
    "model.summary()"
   ]
  },
  {
   "cell_type": "markdown",
   "id": "66fb3bb4",
   "metadata": {},
   "source": [
    "### Data Generation from images"
   ]
  },
  {
   "cell_type": "code",
   "execution_count": 3,
   "id": "6293e2b4",
   "metadata": {},
   "outputs": [
    {
     "name": "stdout",
     "output_type": "stream",
     "text": [
      "Found 21000 images belonging to 2 classes.\n",
      "Found 4500 images belonging to 2 classes.\n"
     ]
    }
   ],
   "source": [
    "train_data_dir = 'data/train'\n",
    "validation_data_dir = 'data/val'\n",
    "batch_size = 32\n",
    "epochs = 100\n",
    "nb_train_samples = 21000\n",
    "nb_validation_samples = 4500\n",
    "#image dimensions\n",
    "img_width, img_height = 80, 40\n",
    "\n",
    "if K.image_data_format() == 'channels_first':\n",
    "    input_shape = (3, img_width, img_height)\n",
    "else:\n",
    "    input_shape = (img_width, img_height, 3)\n",
    "\n",
    "#creating data generator for training - normalizes image pixel value\n",
    "train_datagen = ImageDataGenerator(\n",
    "        rescale=1./255,\n",
    "        zoom_range=0.2,\n",
    "        horizontal_flip=True)\n",
    "\n",
    "# only rescaling\n",
    "test_datagen = ImageDataGenerator(rescale=1./255)\n",
    "\n",
    "#using flow_from_directory to generate from pictures in the subfolders specified here \n",
    "#to generate batches of augmented image data - tho only training data is flipped etc.\n",
    "train_generator = train_datagen.flow_from_directory(\n",
    "        train_data_dir,  # this is the target directory\n",
    "        target_size=(img_height, img_width),  # all images will be resized to 150x150\n",
    "        batch_size=batch_size,\n",
    "        class_mode='binary')  # since we use binary_crossentropy loss, we need binary labels\n",
    "\n",
    "#generator for validation set\n",
    "validation_generator = train_datagen.flow_from_directory(\n",
    "        validation_data_dir,  # this is the target directory\n",
    "        target_size=(img_height, img_width),  # all images will be resized to 150x150\n",
    "        batch_size=batch_size,\n",
    "        class_mode='binary')  # since we use binary_crossentropy loss, we need binary labels"
   ]
  },
  {
   "cell_type": "markdown",
   "id": "d1f3f065",
   "metadata": {},
   "source": [
    "## Run Model"
   ]
  },
  {
   "cell_type": "code",
   "execution_count": 1,
   "id": "a2fa7f0e",
   "metadata": {},
   "outputs": [
    {
     "name": "stdout",
     "output_type": "stream",
     "text": [
      "Found 21000 images belonging to 2 classes.\n",
      "Found 4500 images belonging to 2 classes.\n",
      "Epoch 1/10\n"
     ]
    },
    {
     "name": "stderr",
     "output_type": "stream",
     "text": [
      "C:\\Users\\vicch\\AppData\\Local\\Temp/ipykernel_4348/808673674.py:68: UserWarning: `Model.fit_generator` is deprecated and will be removed in a future version. Please use `Model.fit`, which supports generators.\n",
      "  model.fit_generator(\n"
     ]
    },
    {
     "name": "stdout",
     "output_type": "stream",
     "text": [
      "656/656 [==============================] - 29s 40ms/step - loss: 0.0221 - accuracy: 0.9915 - val_loss: 0.0047 - val_accuracy: 0.9987\n",
      "Epoch 2/10\n",
      "656/656 [==============================] - 16s 25ms/step - loss: 0.0083 - accuracy: 0.9972 - val_loss: 4.4234e-04 - val_accuracy: 0.9998\n",
      "Epoch 3/10\n",
      "656/656 [==============================] - 17s 25ms/step - loss: 0.0039 - accuracy: 0.9988 - val_loss: 0.0045 - val_accuracy: 0.9987\n",
      "Epoch 4/10\n",
      "656/656 [==============================] - 16s 25ms/step - loss: 0.0062 - accuracy: 0.9980 - val_loss: 1.6686e-04 - val_accuracy: 1.0000\n",
      "Epoch 5/10\n",
      "656/656 [==============================] - 16s 24ms/step - loss: 0.0077 - accuracy: 0.9978 - val_loss: 3.8192e-04 - val_accuracy: 1.0000\n",
      "Epoch 6/10\n",
      "656/656 [==============================] - 16s 24ms/step - loss: 0.0035 - accuracy: 0.9989 - val_loss: 5.5937e-04 - val_accuracy: 1.0000\n",
      "Epoch 7/10\n",
      "656/656 [==============================] - 16s 24ms/step - loss: 0.0038 - accuracy: 0.9987 - val_loss: 6.1258e-04 - val_accuracy: 1.0000\n",
      "Epoch 8/10\n",
      "656/656 [==============================] - 16s 24ms/step - loss: 0.0028 - accuracy: 0.9990 - val_loss: 0.0012 - val_accuracy: 0.9996\n",
      "Epoch 9/10\n",
      "656/656 [==============================] - 16s 24ms/step - loss: 0.0049 - accuracy: 0.9988 - val_loss: 0.0010 - val_accuracy: 0.9998\n",
      "Epoch 10/10\n",
      "656/656 [==============================] - 16s 24ms/step - loss: 0.0033 - accuracy: 0.9989 - val_loss: 2.3608e-04 - val_accuracy: 0.9998\n"
     ]
    }
   ],
   "source": [
    "#imports\n",
    "import tensorflow as tf\n",
    "from tensorflow.keras import layers, models\n",
    "from keras.preprocessing.image import ImageDataGenerator\n",
    "from keras import backend as K\n",
    "import matplotlib.pyplot as plt\n",
    "\n",
    "#creating convolutional base\n",
    "model = models.Sequential()\n",
    "model.add(layers.Conv2D(40, (3, 3), activation='relu', input_shape=(40, 80, 3)))\n",
    "model.add(layers.MaxPooling2D((2, 2)))\n",
    "model.add(layers.Conv2D(80, (3, 3), activation='relu'))\n",
    "model.add(layers.MaxPooling2D((2, 2)))\n",
    "model.add(layers.Conv2D(80, (3, 3), activation='relu'))\n",
    "#adding dense layers\n",
    "model.add(layers.Flatten())\n",
    "model.add(layers.Dense(32, activation='relu'))\n",
    "model.add(layers.Dense(2, activation='softmax'))\n",
    "\n",
    "model.compile(optimizer='adam',\n",
    "              loss=tf.keras.losses.SparseCategoricalCrossentropy(),#from_logits=True),\n",
    "              metrics=['accuracy'])\n",
    "\n",
    "#____________________________________________________________________________________________#\n",
    "\n",
    "#Data generation from images\n",
    "train_data_dir = 'data/train'\n",
    "validation_data_dir = 'data/val'\n",
    "batch_size = 32\n",
    "epochs = 10\n",
    "nb_train_samples = 21000\n",
    "nb_validation_samples = 4500\n",
    "#image dimensions\n",
    "img_width, img_height = 80, 40\n",
    "\n",
    "if K.image_data_format() == 'channels_first':\n",
    "    input_shape = (3, img_width, img_height)\n",
    "else:\n",
    "    input_shape = (img_width, img_height, 3)\n",
    "\n",
    "#creating data generator for training - normalizes image pixel value\n",
    "train_datagen = ImageDataGenerator(\n",
    "        rescale=1./255,\n",
    "        zoom_range=0.2,\n",
    "        horizontal_flip=True)\n",
    "\n",
    "# only rescaling\n",
    "test_datagen = ImageDataGenerator(rescale=1./255)\n",
    "\n",
    "#using flow_from_directory to generate from pictures in the subfolders specified here \n",
    "#to generate batches of augmented image data - tho only training data is flipped etc.\n",
    "train_generator = train_datagen.flow_from_directory(\n",
    "        train_data_dir,  # this is the target directory\n",
    "        target_size=(img_height, img_width),  # all images will be resized to 150x150\n",
    "        batch_size=batch_size,\n",
    "        class_mode='binary')  # since we use binary_crossentropy loss, we need binary labels\n",
    "\n",
    "#generator for validation set\n",
    "validation_generator = train_datagen.flow_from_directory(\n",
    "        validation_data_dir,  # this is the target directory\n",
    "        target_size=(img_height, img_width),  # all images will be resized to 150x150\n",
    "        batch_size=batch_size,\n",
    "        class_mode='binary')  # since we use binary_crossentropy loss, we need binary labels\n",
    "\n",
    "#____________________________________________________________________________________________#\n",
    "\n",
    "#fitting model\n",
    "model.fit_generator(\n",
    "    train_generator,\n",
    "    steps_per_epoch=nb_train_samples // batch_size,\n",
    "    epochs=epochs,\n",
    "    validation_data=validation_generator,\n",
    "    validation_steps=nb_validation_samples // batch_size,\n",
    "    use_multiprocessing=False, \n",
    "    workers=16)\n",
    "\n",
    "#saving model weights\n",
    "model.save_weights('DNConv_weights.h5')"
   ]
  },
  {
   "cell_type": "markdown",
   "id": "d357a896",
   "metadata": {},
   "source": [
    "### Fitting model"
   ]
  },
  {
   "cell_type": "code",
   "execution_count": null,
   "id": "27606986",
   "metadata": {},
   "outputs": [
    {
     "name": "stderr",
     "output_type": "stream",
     "text": [
      "C:\\Users\\vicch\\AppData\\Local\\Temp/ipykernel_11880/3708785553.py:2: UserWarning: `Model.fit_generator` is deprecated and will be removed in a future version. Please use `Model.fit`, which supports generators.\n",
      "  model.fit_generator(\n"
     ]
    },
    {
     "name": "stdout",
     "output_type": "stream",
     "text": [
      "Epoch 1/100\n"
     ]
    }
   ],
   "source": [
    "#fitting model\n",
    "model.fit_generator(\n",
    "    train_generator,\n",
    "    steps_per_epoch=nb_train_samples // batch_size,\n",
    "    epochs=epochs,\n",
    "    validation_data=validation_generator,\n",
    "    validation_steps=nb_validation_samples // batch_size)\n",
    "\n",
    "#saving model weights\n",
    "model.save_weights('DNConv_weights.h5')"
   ]
  },
  {
   "cell_type": "code",
   "execution_count": 25,
   "id": "2767dcbf",
   "metadata": {},
   "outputs": [],
   "source": [
    "model.load_weights('DNConv_weights.h5')"
   ]
  },
  {
   "cell_type": "code",
   "execution_count": 35,
   "id": "50251272",
   "metadata": {},
   "outputs": [
    {
     "data": {
      "text/plain": [
       "(1, 40, 80, 3)"
      ]
     },
     "execution_count": 35,
     "metadata": {},
     "output_type": "execute_result"
    }
   ],
   "source": [
    "#convert and standardize an image to test inference by trained_model\n",
    "# Import the necessary libraries\n",
    "from PIL import Image\n",
    "from numpy import asarray\n",
    "import numpy as np\n",
    "  \n",
    "#load image and convert to numpy array\n",
    "img = Image.open('Image13060_0.jpg')\n",
    "imgnpy = asarray(img)/255 #normalize for 0-255 pizel values\n",
    "  \n",
    "# data\n",
    "#print(imgnpy)\n",
    "#print(imgnpy/255)\n",
    "imgnpy = np.expand_dims(imgnpy, axis=0)\n",
    "imgnpy.shape #(40, 80, 3)"
   ]
  },
  {
   "cell_type": "code",
   "execution_count": 36,
   "id": "fed978dc",
   "metadata": {},
   "outputs": [
    {
     "data": {
      "text/plain": [
       "array([[0.00129142, 0.9987086 ]], dtype=float32)"
      ]
     },
     "execution_count": 36,
     "metadata": {},
     "output_type": "execute_result"
    }
   ],
   "source": [
    "model.predict(imgnpy)"
   ]
  },
  {
   "cell_type": "code",
   "execution_count": 45,
   "id": "40714d02",
   "metadata": {},
   "outputs": [
    {
     "data": {
      "text/plain": [
       "(2, 40, 80, 3)"
      ]
     },
     "execution_count": 45,
     "metadata": {},
     "output_type": "execute_result"
    }
   ],
   "source": [
    "#open images\n",
    "img1 = Image.open('photos to test inference/preprocessed/20210801_220857.jpg')\n",
    "img2 = Image.open('photos to test inference/preprocessed/20210818_171654.jpg')\n",
    "\n",
    "#normalize for 0-255 pixel values\n",
    "imgnpy1, imgnpy2 = asarray(img1)/255, asarray(img2)/255\n",
    "\n",
    "pred_array1 = np.stack([imgnpy1, imgnpy2])\n",
    "pred_array1.shape"
   ]
  },
  {
   "cell_type": "code",
   "execution_count": 90,
   "id": "404b36a9",
   "metadata": {},
   "outputs": [
    {
     "data": {
      "image/png": "[encoded data removed]",
      "text/plain": [
       "<PIL.Image.Image image mode=RGB size=80x40 at 0x2286DAFDC10>"
      ]
     },
     "metadata": {},
     "output_type": "display_data"
    },
    {
     "data": {
      "image/png": "[encoded data removed]",
      "text/plain": [
       "<PIL.Image.Image image mode=RGB size=80x40 at 0x2286DAFDC10>"
      ]
     },
     "metadata": {},
     "output_type": "display_data"
    },
    {
     "data": {
      "image/png": "[encoded data removed]",
      "text/plain": [
       "<PIL.Image.Image image mode=RGB size=80x40 at 0x2286DAFDC10>"
      ]
     },
     "metadata": {},
     "output_type": "display_data"
    },
    {
     "data": {
      "image/png": "[encoded data removed]",
      "text/plain": [
       "<PIL.Image.Image image mode=RGB size=80x40 at 0x2286DAFDC10>"
      ]
     },
     "metadata": {},
     "output_type": "display_data"
    },
    {
     "data": {
      "image/png": "[encoded data removed]",
      "text/plain": [
       "<PIL.Image.Image image mode=RGB size=80x40 at 0x2286DAFDC10>"
      ]
     },
     "metadata": {},
     "output_type": "display_data"
    },
    {
     "data": {
      "image/png": "[encoded data removed]",
      "text/plain": [
       "<PIL.Image.Image image mode=RGB size=80x40 at 0x2286DAFDC10>"
      ]
     },
     "metadata": {},
     "output_type": "display_data"
    },
    {
     "data": {
      "image/png": "[encoded data removed]",
      "text/plain": [
       "<PIL.Image.Image image mode=RGB size=80x40 at 0x2286DAFDC10>"
      ]
     },
     "metadata": {},
     "output_type": "display_data"
    },
    {
     "data": {
      "image/png": "[encoded data removed]",
      "text/plain": [
       "<PIL.Image.Image image mode=RGB size=80x40 at 0x2286DAFDC10>"
      ]
     },
     "metadata": {},
     "output_type": "display_data"
    },
    {
     "data": {
      "image/png": "[encoded data removed]",
      "text/plain": [
       "<PIL.Image.Image image mode=RGB size=80x40 at 0x2286DAFDC10>"
      ]
     },
     "metadata": {},
     "output_type": "display_data"
    },
    {
     "data": {
      "image/png": "[encoded data removed]",
      "text/plain": [
       "<PIL.Image.Image image mode=RGB size=80x40 at 0x2286DAFDC10>"
      ]
     },
     "metadata": {},
     "output_type": "display_data"
    },
    {
     "data": {
      "image/png": "[encoded data removed]",
      "text/plain": [
       "<PIL.Image.Image image mode=RGB size=80x40 at 0x2286DAFDC10>"
      ]
     },
     "metadata": {},
     "output_type": "display_data"
    },
    {
     "data": {
      "image/png": "[encoded data removed]",
      "text/plain": [
       "<PIL.Image.Image image mode=RGB size=80x40 at 0x2286DAFDC10>"
      ]
     },
     "metadata": {},
     "output_type": "display_data"
    },
    {
     "data": {
      "image/png": "[encoded data removed]",
      "text/plain": [
       "<PIL.Image.Image image mode=RGB size=80x40 at 0x2286DAFDC10>"
      ]
     },
     "metadata": {},
     "output_type": "display_data"
    },
    {
     "data": {
      "text/plain": [
       "(15, 40, 80, 3)"
      ]
     },
     "execution_count": 90,
     "metadata": {},
     "output_type": "execute_result"
    }
   ],
   "source": [
    "#loop this for all images in a directory\n",
    "import os\n",
    "\n",
    "f = r'C:/Users/vicch/jupyterlab_workspace/photos to test inference/raw'\n",
    "for file in os.listdir(f):\n",
    "    f_img = f+'/'+file\n",
    "    f_img_out_path = r'C:/Users/vicch/jupyterlab_workspace/photos to test inference/preprocessed/'+file\n",
    "    img = Image.open(f_img)\n",
    "    #img = img.resize((200,120))\n",
    "    #display(img)\n",
    "    img = img.resize((80,40))\n",
    "    img.save(f_img_out_path)\n",
    "    display(img)\n",
    "\n",
    "f1 = r'C:/Users/vicch/jupyterlab_workspace/photos to test inference/preprocessed/'\n",
    "array_list = []\n",
    "for file in os.listdir(f1):\n",
    "    img = Image.open(f1+file)\n",
    "    imgnpy = asarray(img)\n",
    "    array_list.append(imgnpy)\n",
    "pred_array = np.stack(array_list)\n",
    "pred_array.shape"
   ]
  },
  {
   "cell_type": "code",
   "execution_count": 91,
   "id": "4c3391bd",
   "metadata": {},
   "outputs": [
    {
     "data": {
      "text/plain": [
       "array([[1., 0.],\n",
       "       [1., 0.],\n",
       "       [1., 0.],\n",
       "       [1., 0.],\n",
       "       [1., 0.],\n",
       "       [1., 0.],\n",
       "       [1., 0.],\n",
       "       [1., 0.],\n",
       "       [1., 0.],\n",
       "       [0., 1.],\n",
       "       [1., 0.],\n",
       "       [1., 0.],\n",
       "       [1., 0.],\n",
       "       [1., 0.],\n",
       "       [1., 0.]], dtype=float32)"
      ]
     },
     "execution_count": 91,
     "metadata": {},
     "output_type": "execute_result"
    }
   ],
   "source": [
    "model_pred = model.predict(pred_array)\n",
    "np.around(model_pred)"
   ]
  },
  {
   "cell_type": "code",
   "execution_count": 102,
   "id": "8864a7b0",
   "metadata": {},
   "outputs": [
    {
     "data": {
      "image/png": "[encoded data removed]",
      "text/plain": [
       "<PIL.Image.Image image mode=RGB size=80x40 at 0x2286DAEFB20>"
      ]
     },
     "metadata": {},
     "output_type": "display_data"
    },
    {
     "data": {
      "image/png": "[encoded data removed]",
      "text/plain": [
       "<PIL.Image.Image image mode=RGB size=80x40 at 0x2286DAEFB20>"
      ]
     },
     "metadata": {},
     "output_type": "display_data"
    },
    {
     "data": {
      "image/png": "[encoded data removed]",
      "text/plain": [
       "<PIL.Image.Image image mode=RGB size=80x40 at 0x2286DAEFB20>"
      ]
     },
     "metadata": {},
     "output_type": "display_data"
    },
    {
     "data": {
      "image/png": "[encoded data removed]",
      "text/plain": [
       "<PIL.Image.Image image mode=RGB size=80x40 at 0x2286DAEFB20>"
      ]
     },
     "metadata": {},
     "output_type": "display_data"
    },
    {
     "data": {
      "image/png": "[encoded data removed]",
      "text/plain": [
       "<PIL.Image.Image image mode=RGB size=80x40 at 0x2286DAEFB20>"
      ]
     },
     "metadata": {},
     "output_type": "display_data"
    },
    {
     "name": "stdout",
     "output_type": "stream",
     "text": [
      "(5, 40, 80, 3)\n"
     ]
    },
    {
     "data": {
      "text/plain": [
       "array([[0., 1.],\n",
       "       [0., 1.],\n",
       "       [0., 1.],\n",
       "       [0., 1.],\n",
       "       [0., 1.]], dtype=float32)"
      ]
     },
     "execution_count": 102,
     "metadata": {},
     "output_type": "execute_result"
    }
   ],
   "source": [
    "#loop this for all images in a directory\n",
    "import os\n",
    "\n",
    "f = r'C:/Users/vicch/jupyterlab_workspace/photos to test inference/raw'\n",
    "for file in os.listdir(f):\n",
    "    f_img = f+'/'+file\n",
    "    f_img_out_path = r'C:/Users/vicch/jupyterlab_workspace/photos to test inference/preprocessed/'+file\n",
    "    img = Image.open(f_img)\n",
    "    #img = img.resize((200,120))\n",
    "    #display(img)\n",
    "    img = img.resize((80,40))\n",
    "    img.save(f_img_out_path)\n",
    "    display(img)\n",
    "\n",
    "f1 = r'C:/Users/vicch/jupyterlab_workspace/photos to test inference/preprocessed/'\n",
    "array_list = []\n",
    "for file in os.listdir(f1):\n",
    "    img = Image.open(f1+file)\n",
    "    imgnpy = asarray(img)\n",
    "    array_list.append(imgnpy)\n",
    "pred_array = np.stack(array_list)\n",
    "print(pred_array.shape)\n",
    "\n",
    "#predict\n",
    "model_pred = model.predict(pred_array)\n",
    "np.around(model_pred)"
   ]
  },
  {
   "cell_type": "code",
   "execution_count": null,
   "id": "a2e745a0",
   "metadata": {},
   "outputs": [],
   "source": []
  }
 ],
 "metadata": {
  "kernelspec": {
   "display_name": "Python 3 (ipykernel)",
   "language": "python",
   "name": "python3"
  },
  "language_info": {
   "codemirror_mode": {
    "name": "ipython",
    "version": 3
   },
   "file_extension": ".py",
   "mimetype": "text/x-python",
   "name": "python",
   "nbconvert_exporter": "python",
   "pygments_lexer": "ipython3",
   "version": "3.9.7"
  }
 },
 "nbformat": 4,
 "nbformat_minor": 5
}
