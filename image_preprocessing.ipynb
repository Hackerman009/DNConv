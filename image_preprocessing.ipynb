{
 "cells": [
  {
   "cell_type": "raw",
   "id": "4e61a25c",
   "metadata": {},
   "source": [
    "#imports\n",
    "import os\n",
    "import glob\n",
    "#from IPython.display import display, Image\n",
    "from PIL import Image, ImageDraw, ImageFilter"
   ]
  },
  {
   "cell_type": "raw",
   "id": "2e19ed26",
   "metadata": {},
   "source": [
    "img = Image.open('image.jpg')"
   ]
  },
  {
   "cell_type": "raw",
   "id": "f02e1f40",
   "metadata": {},
   "source": [
    "#function crops to largest centre\n",
    "def crop_center(pil_img, crop_width, crop_height):\n",
    "    img_width, img_height = pil_img.size\n",
    "    return pil_img.crop(((img_width - crop_width) // 2,\n",
    "                         (img_height - crop_height) // 2,\n",
    "                         (img_width + crop_width) // 2,\n",
    "                         (img_height + crop_height) // 2))"
   ]
  },
  {
   "cell_type": "raw",
   "id": "3b436e52",
   "metadata": {},
   "source": [
    "#function crops to largest centre square image possible\n",
    "def crop_max_square(pil_img):\n",
    "    return crop_center(pil_img, min(pil_img.size), min(pil_img.size))"
   ]
  },
  {
   "cell_type": "raw",
   "id": "082c0fe3",
   "metadata": {},
   "source": [
    "thumb_width = 400\n",
    "img_sq = crop_max_square(img).resize((thumb_width, thumb_width), Image.LANCZOS)\n",
    "img_sq.save('image_center_square.jpg', quality=100)"
   ]
  },
  {
   "cell_type": "raw",
   "id": "e5717ef9",
   "metadata": {},
   "source": [
    "#checking that the size is as specified in thumb_width\n",
    "img_sq.size"
   ]
  },
  {
   "cell_type": "code",
   "execution_count": 4,
   "id": "0a2443b0",
   "metadata": {},
   "outputs": [],
   "source": [
    "#get filepath\n",
    "import os\n",
    "cwd = os.getcwd()\n",
    "import PIL\n",
    "import os\n",
    "import os.path\n",
    "from PIL import Image"
   ]
  },
  {
   "cell_type": "code",
   "execution_count": 1,
   "id": "ee0fa38e",
   "metadata": {},
   "outputs": [],
   "source": [
    "f = r'C:/Users/vicch/Desktop/ML_Day-Night_dataset/Day'\n",
    "for file in os.listdir(f):\n",
    "    f_img = f+'/'+file\n",
    "    f_img_out_path = r'C:/Users/vicch/jupyterlab_workspace/image_process_output/day/'+file\n",
    "    img = Image.open(f_img)\n",
    "    img = img.resize((80,40))\n",
    "    img.save(f_img_out_path)"
   ]
  },
  {
   "cell_type": "code",
   "execution_count": 2,
   "id": "b3aa8788",
   "metadata": {},
   "outputs": [],
   "source": [
    "#Now the same for the night images\n",
    "f = r'C:/Users/vicch/Desktop/ML_Day-Night_dataset/Night'\n",
    "for file in os.listdir(f):\n",
    "    f_img = f+'/'+file\n",
    "    f_img_out_path = r'C:/Users/vicch/jupyterlab_workspace/image_process_output/night/'+file\n",
    "    img = Image.open(f_img)\n",
    "    img = img.resize((80,40))\n",
    "    img.save(f_img_out_path)"
   ]
  },
  {
   "cell_type": "raw",
   "id": "e89e7aa7",
   "metadata": {},
   "source": [
    "#Now the same for the night images\n",
    "f = r'C:/Users/vicch/Desktop/ML_Day-Night_dataset/test for road images'\n",
    "for file in os.listdir(f):\n",
    "    f_img = f+'/'+file\n",
    "    f_img_out_path = r'C:/Users/vicch/jupyterlab_workspace/image_process_output/test/'+file\n",
    "    img = Image.open(f_img)\n",
    "    img = img.resize((800,400))\n",
    "    img.save(f_img_out_path)"
   ]
  },
  {
   "cell_type": "code",
   "execution_count": 3,
   "id": "92ae76f9",
   "metadata": {},
   "outputs": [],
   "source": [
    "#Now the same for the night images\n",
    "f = r'C:/Users/vicch/Desktop/ML_Day-Night_dataset/day light road images/day light road images'\n",
    "for file in os.listdir(f):\n",
    "    f_img = f+'/'+file\n",
    "    f_img_out_path = r'C:/Users/vicch/jupyterlab_workspace/image_process_output/day_road/'+file\n",
    "    img = Image.open(f_img)\n",
    "    img = img.resize((80,40))\n",
    "    img.save(f_img_out_path)\n",
    "    \n",
    "f = r'C:/Users/vicch/Desktop/ML_Day-Night_dataset/night time road images/night time road images'\n",
    "for file in os.listdir(f):\n",
    "    f_img = f+'/'+file\n",
    "    f_img_out_path = r'C:/Users/vicch/jupyterlab_workspace/image_process_output/night_road/'+file\n",
    "    img = Image.open(f_img)\n",
    "    img = img.resize((80,40))\n",
    "    img.save(f_img_out_path)"
   ]
  },
  {
   "cell_type": "code",
   "execution_count": 5,
   "id": "bdc62424",
   "metadata": {},
   "outputs": [],
   "source": [
    "f = r'C:/Users/vicch/jupyterlab_workspace/photos to test inference/raw'\n",
    "for file in os.listdir(f):\n",
    "    f_img = f+'/'+file\n",
    "    f_img_out_path = r'C:/Users/vicch/jupyterlab_workspace/photos to test inference/preprocessed/'+file\n",
    "    img = Image.open(f_img)\n",
    "    img = img.resize((80,40))\n",
    "    img.save(f_img_out_path)"
   ]
  },
  {
   "cell_type": "code",
   "execution_count": null,
   "id": "3e05afa5",
   "metadata": {},
   "outputs": [],
   "source": []
  }
 ],
 "metadata": {
  "kernelspec": {
   "display_name": "Python 3 (ipykernel)",
   "language": "python",
   "name": "python3"
  },
  "language_info": {
   "codemirror_mode": {
    "name": "ipython",
    "version": 3
   },
   "file_extension": ".py",
   "mimetype": "text/x-python",
   "name": "python",
   "nbconvert_exporter": "python",
   "pygments_lexer": "ipython3",
   "version": "3.9.7"
  }
 },
 "nbformat": 4,
 "nbformat_minor": 5
}
